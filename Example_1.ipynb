{
 "cells": [
  {
   "cell_type": "code",
   "execution_count": null,
   "id": "86f8ed01",
   "metadata": {},
   "outputs": [],
   "source": [
    "import time\n",
    "import pandas as pd\n",
    "from brainy_charts.wrapper import BrainyChart"
   ]
  },
  {
   "cell_type": "code",
   "execution_count": null,
   "id": "e3d82f63",
   "metadata": {},
   "outputs": [],
   "source": [
    "chart = BrainyChart()\n",
    "chart.imagine()"
   ]
  },
  {
   "cell_type": "markdown",
   "id": "516d10e3",
   "metadata": {},
   "source": [
    "# Draw Line"
   ]
  },
  {
   "cell_type": "code",
   "execution_count": null,
   "id": "01e5a21d",
   "metadata": {},
   "outputs": [],
   "source": [
    "stop"
   ]
  },
  {
   "cell_type": "code",
   "execution_count": null,
   "id": "2d4e031d",
   "metadata": {},
   "outputs": [],
   "source": [
    "from brainy_charts.wrapper import ShapeManager"
   ]
  },
  {
   "cell_type": "code",
   "execution_count": null,
   "id": "61e3252e",
   "metadata": {},
   "outputs": [],
   "source": [
    "manager = ShapeManager()\n",
    "\n",
    "time.sleep(6)\n",
    "horizontal_line = manager.create_or_update_shape(\n",
    "    shape_code=123456,\n",
    "    shape_type=\"horizontal_line\",\n",
    "    points=[{\"time\": 1575614100, \"price\": 7358.107841184005}],\n",
    "    properties={\"color\": \"#FF0000\"}\n",
    ")\n",
    "\n",
    "chart.imagine()"
   ]
  },
  {
   "cell_type": "code",
   "execution_count": null,
   "id": "ee189cbc",
   "metadata": {},
   "outputs": [],
   "source": []
  }
 ],
 "metadata": {
  "kernelspec": {
   "display_name": "LearningMachineLearning",
   "language": "python",
   "name": "python3"
  },
  "language_info": {
   "codemirror_mode": {
    "name": "ipython",
    "version": 3
   },
   "file_extension": ".py",
   "mimetype": "text/x-python",
   "name": "python",
   "nbconvert_exporter": "python",
   "pygments_lexer": "ipython3",
   "version": "3.12.4"
  }
 },
 "nbformat": 4,
 "nbformat_minor": 5
}
