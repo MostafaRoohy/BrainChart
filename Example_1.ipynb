{
 "cells": [
  {
   "cell_type": "code",
   "execution_count": 1,
   "id": "86f8ed01",
   "metadata": {},
   "outputs": [],
   "source": [
    "import time\n",
    "import pandas as pd\n",
    "from brainy_charts.wrapper import BrainyChart"
   ]
  },
  {
   "cell_type": "code",
   "execution_count": 2,
   "id": "e3d82f63",
   "metadata": {},
   "outputs": [
    {
     "data": {
      "text/html": [
       "\n",
       "        <iframe\n",
       "            width=\"1500\"\n",
       "            height=\"600\"\n",
       "            src=\"http://localhost:8000/index.html\"\n",
       "            frameborder=\"0\"\n",
       "            allowfullscreen\n",
       "            \n",
       "        ></iframe>\n",
       "        "
      ],
      "text/plain": [
       "<IPython.lib.display.IFrame at 0x789513feda00>"
      ]
     },
     "execution_count": 2,
     "metadata": {},
     "output_type": "execute_result"
    }
   ],
   "source": [
    "chart = BrainyChart(data=pd.read_csv(\"./CandleData/USDTIRT_1m_2023.csv\"))\n",
    "chart.imagine()"
   ]
  },
  {
   "cell_type": "markdown",
   "id": "516d10e3",
   "metadata": {},
   "source": [
    "# Draw"
   ]
  },
  {
   "cell_type": "code",
   "execution_count": 3,
   "id": "01e5a21d",
   "metadata": {},
   "outputs": [
    {
     "ename": "NameError",
     "evalue": "name 'stop' is not defined",
     "output_type": "error",
     "traceback": [
      "\u001b[0;31m---------------------------------------------------------------------------\u001b[0m",
      "\u001b[0;31mNameError\u001b[0m                                 Traceback (most recent call last)",
      "Cell \u001b[0;32mIn[3], line 1\u001b[0m\n\u001b[0;32m----> 1\u001b[0m stop\n",
      "\u001b[0;31mNameError\u001b[0m: name 'stop' is not defined"
     ]
    }
   ],
   "source": [
    "stop"
   ]
  },
  {
   "cell_type": "code",
   "execution_count": null,
   "id": "2d4e031d",
   "metadata": {},
   "outputs": [],
   "source": [
    "from brainy_charts.wrapper import ShapeManager"
   ]
  },
  {
   "cell_type": "code",
   "execution_count": null,
   "id": "61e3252e",
   "metadata": {},
   "outputs": [],
   "source": [
    "manager = ShapeManager()\n",
    "\n",
    "time.sleep(6)\n",
    "horizontal_line = manager.create_or_update_shape(\n",
    "    shape_code=123456,\n",
    "    shape_type=\"horizontal_line\",\n",
    "    points=[{\"time\": 1575614100, \"price\": 7358.107841184005}],\n",
    "    properties={\"color\": \"#FF0000\"}\n",
    ")\n",
    "\n",
    "chart.imagine()"
   ]
  },
  {
   "cell_type": "code",
   "execution_count": null,
   "id": "ee189cbc",
   "metadata": {},
   "outputs": [],
   "source": []
  }
 ],
 "metadata": {
  "kernelspec": {
   "display_name": "LearningMachineLearning",
   "language": "python",
   "name": "python3"
  },
  "language_info": {
   "codemirror_mode": {
    "name": "ipython",
    "version": 3
   },
   "file_extension": ".py",
   "mimetype": "text/x-python",
   "name": "python",
   "nbconvert_exporter": "python",
   "pygments_lexer": "ipython3",
   "version": "3.12.4"
  }
 },
 "nbformat": 4,
 "nbformat_minor": 5
}
