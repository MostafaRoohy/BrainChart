{
 "cells": [
  {
   "cell_type": "code",
   "execution_count": 1,
   "id": "772167dc",
   "metadata": {},
   "outputs": [
    {
     "name": "stdout",
     "output_type": "stream",
     "text": [
      "Project root added to sys.path: /home/mostafaroohy/Work/Python/Project_BrainyCharts\n"
     ]
    }
   ],
   "source": [
    "import sys\n",
    "import os\n",
    "\n",
    "project_root = os.path.abspath(os.path.join(os.getcwd(), \"../\"))\n",
    "sys.path.insert(0, project_root)\n",
    "print(\"Project root added to sys.path:\", project_root)"
   ]
  },
  {
   "cell_type": "code",
   "execution_count": 2,
   "id": "86f8ed01",
   "metadata": {},
   "outputs": [],
   "source": [
    "import time\n",
    "import pandas as pd\n",
    "from brainy_charts.brainy_chart import BrainyChart\n",
    "from brainy_charts.chart_data   import ChartData"
   ]
  },
  {
   "cell_type": "code",
   "execution_count": 3,
   "id": "6dfae888",
   "metadata": {},
   "outputs": [],
   "source": [
    "df1 = pd.read_csv(\"/home/mostafaroohy/Work/Python/Project_BrainyCharts/playground/CryBB_Candles.csv\")[['timestamp', 'open', 'high', 'low', 'close', 'volume']]\n",
    "df2 = pd.read_csv(\"/home/mostafaroohy/Work/Python/Project_BrainyCharts/playground/DeepSeek_Candle.csv\")[['timestamp', 'open', 'high', 'low', 'close', 'volume']]\n",
    "\n",
    "\n",
    "data1 = ChartData(tohlcv_df=df1, ticker=\"CryBB\"   , exchange=\"DEx\")\n",
    "data2 = ChartData(tohlcv_df=df2, ticker=\"DeepSeek\", exchange=\"DEx\")\n",
    "data  = [data1, data2]"
   ]
  },
  {
   "cell_type": "code",
   "execution_count": 4,
   "id": "9f5e8c80",
   "metadata": {},
   "outputs": [],
   "source": [
    "# data1 = ChartData(\n",
    "#     tohlcv_df = df1,\n",
    "#     ticker = \"CryBB\",\n",
    "#     exchange = \"DEx\",\n",
    "#     full_name = \"CryBB / DEx\",\n",
    "#     description = \"CryBB-USDT pair on DEx exchange\",\n",
    "#     type = \"crypto\",\n",
    "#     listed_exchange = \"DEx\",\n",
    "#     session = \"24x7\",\n",
    "#     timezone = \"UTC\",\n",
    "#     minmov = 1,\n",
    "#     minmov2 = 0,\n",
    "#     pricescale = 100,\n",
    "#     pointvalue = 1,\n",
    "#     has_intraday = True,\n",
    "#     has_daily = True,\n",
    "#     has_weekly_and_monthly = True,\n",
    "#     currency_code = \"USDT\",\n",
    "#     visible_plots_set = \"ohlcv\",\n",
    "#     supported_resolutions = [\"1\", \"5\", \"15\", \"30\", \"60\", \"240\", \"D\", \"W\"],\n",
    "# )\n",
    "\n",
    "# data2 = ChartData(\n",
    "#     tohlcv_df = df2,\n",
    "#     ticker = \"DeepSeek\",\n",
    "#     exchange = \"DEx\",\n",
    "#     full_name = \"DeepSeek / DEx\",\n",
    "#     description = \"DeepSeek-USDT pair on DEx exchange\",\n",
    "#     type = \"crypto\",\n",
    "#     listed_exchange = \"DEx\",\n",
    "#     session = \"24x7\",\n",
    "#     timezone = \"UTC\",\n",
    "#     minmov = 1,\n",
    "#     minmov2 = 0,\n",
    "#     pricescale = 100,\n",
    "#     pointvalue = 1,\n",
    "#     has_intraday = True,\n",
    "#     has_daily = True,\n",
    "#     has_weekly_and_monthly = True,\n",
    "#     currency_code = \"USDT\",\n",
    "#     visible_plots_set = \"ohlcv\",\n",
    "#     supported_resolutions = [\"1\", \"5\", \"15\", \"30\", \"60\", \"240\", \"D\", \"W\"],\n",
    "# )\n",
    "\n",
    "# data = [data1, data2]"
   ]
  },
  {
   "cell_type": "code",
   "execution_count": 5,
   "id": "e3d82f63",
   "metadata": {},
   "outputs": [],
   "source": [
    "chart = BrainyChart(chart_data_list=[data1, data2])#, verbose=True, jupyter=False)"
   ]
  },
  {
   "cell_type": "code",
   "execution_count": 6,
   "id": "3dbc9c83",
   "metadata": {},
   "outputs": [
    {
     "data": {
      "text/html": [
       "\n",
       "        <iframe\n",
       "            width=\"1000\"\n",
       "            height=\"400\"\n",
       "            src=\"http://localhost:8000\"\n",
       "            frameborder=\"0\"\n",
       "            allowfullscreen\n",
       "            \n",
       "        ></iframe>\n",
       "        "
      ],
      "text/plain": [
       "<IPython.lib.display.IFrame at 0x79c2b8b85b50>"
      ]
     },
     "execution_count": 6,
     "metadata": {},
     "output_type": "execute_result"
    }
   ],
   "source": [
    "chart.imagine(width=1000, height=400)"
   ]
  },
  {
   "cell_type": "code",
   "execution_count": null,
   "id": "c17734d0",
   "metadata": {},
   "outputs": [],
   "source": []
  }
 ],
 "metadata": {
  "kernelspec": {
   "display_name": "LearningMachineLearning",
   "language": "python",
   "name": "python3"
  },
  "language_info": {
   "codemirror_mode": {
    "name": "ipython",
    "version": 3
   },
   "file_extension": ".py",
   "mimetype": "text/x-python",
   "name": "python",
   "nbconvert_exporter": "python",
   "pygments_lexer": "ipython3",
   "version": "3.12.4"
  }
 },
 "nbformat": 4,
 "nbformat_minor": 5
}
