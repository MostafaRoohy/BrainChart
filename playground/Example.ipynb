{
 "cells": [
  {
   "cell_type": "code",
   "execution_count": null,
   "id": "772167dc",
   "metadata": {},
   "outputs": [],
   "source": [
    "import sys\n",
    "import os\n",
    "\n",
    "project_root = os.path.abspath(os.path.join(os.getcwd(), \"../\"))\n",
    "sys.path.insert(0, project_root)\n",
    "print(\"Project root added to sys.path:\", project_root)"
   ]
  },
  {
   "cell_type": "code",
   "execution_count": null,
   "id": "86f8ed01",
   "metadata": {},
   "outputs": [],
   "source": [
    "import time\n",
    "import pandas as pd\n",
    "from brainy_charts.brainy_chart import BrainyChart\n",
    "from brainy_charts.chart_data   import ChartData"
   ]
  },
  {
   "cell_type": "code",
   "execution_count": null,
   "id": "6dfae888",
   "metadata": {},
   "outputs": [],
   "source": [
    "df1 = pd.read_csv(\"/home/mostafaroohy/Work/Python/Project_BrainyCharts/playground/CryBB_Candles.csv\")[['timestamp', 'open', 'high', 'low', 'close', 'volume']]\n",
    "df2 = pd.read_csv(\"/home/mostafaroohy/Work/Python/Project_BrainyCharts/playground/CryBB_Candles.csv\")[['timestamp', 'open', 'high', 'low', 'close', 'volume']]\n",
    "\n",
    "\n",
    "data1 = ChartData(tohlcv_df=df1)\n",
    "data2 = ChartData(tohlcv_df=df2)\n",
    "data  = [data1, data2]"
   ]
  },
  {
   "cell_type": "code",
   "execution_count": null,
   "id": "e3d82f63",
   "metadata": {},
   "outputs": [],
   "source": [
    "chart = BrainyChart(data=df1)"
   ]
  },
  {
   "cell_type": "code",
   "execution_count": null,
   "id": "3dbc9c83",
   "metadata": {},
   "outputs": [],
   "source": [
    "chart.imagine(width=1000, height=400)"
   ]
  },
  {
   "cell_type": "code",
   "execution_count": null,
   "id": "c17734d0",
   "metadata": {},
   "outputs": [],
   "source": []
  }
 ],
 "metadata": {
  "kernelspec": {
   "display_name": "LearningMachineLearning",
   "language": "python",
   "name": "python3"
  },
  "language_info": {
   "codemirror_mode": {
    "name": "ipython",
    "version": 3
   },
   "file_extension": ".py",
   "mimetype": "text/x-python",
   "name": "python",
   "nbconvert_exporter": "python",
   "pygments_lexer": "ipython3",
   "version": "3.12.4"
  }
 },
 "nbformat": 4,
 "nbformat_minor": 5
}
