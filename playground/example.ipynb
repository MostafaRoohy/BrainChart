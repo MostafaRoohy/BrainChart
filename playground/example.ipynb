{
 "cells": [
  {
   "cell_type": "code",
   "execution_count": 1,
   "id": "772167dc",
   "metadata": {},
   "outputs": [
    {
     "name": "stdout",
     "output_type": "stream",
     "text": [
      "Project root added to sys.path: /home/mostafaroohy/Work/Python/Project_BrainyCharts\n"
     ]
    }
   ],
   "source": [
    "import sys\n",
    "import os\n",
    "import time\n",
    "import pandas as pd\n",
    "\n",
    "project_root = os.path.abspath(os.path.join(os.getcwd(), \"../\"))\n",
    "sys.path.insert(0, project_root)\n",
    "print(\"Project root added to sys.path:\", project_root)"
   ]
  },
  {
   "cell_type": "code",
   "execution_count": 2,
   "id": "86f8ed01",
   "metadata": {},
   "outputs": [],
   "source": [
    "from brainy_charts.brainy_charts import Symbol, BrainyChart\n",
    "from brainy_charts.chart_widget import ChartWidget, ChartingLibraryFeatureset, Favorites, DrawingToolIdentifier, ResolutionString, ChartTypeFavorites"
   ]
  },
  {
   "cell_type": "code",
   "execution_count": null,
   "id": "6dfae888",
   "metadata": {},
   "outputs": [],
   "source": [
    "df1 = pd.read_csv(\"/home/mostafaroohy/Work/Python/Project_BrainyCharts/playground/candle_data/CardGlass.csv\")[['timestamp', 'open', 'high', 'low', 'close', 'volume']]\n",
    "df2 = pd.read_csv(\"/home/mostafaroohy/Work/Python/Project_BrainyCharts/playground/candle_data/CryBB.csv\")[['timestamp', 'open', 'high', 'low', 'close', 'volume']]\n",
    "df3 = pd.read_csv(\"/home/mostafaroohy/Work/Python/Project_BrainyCharts/playground/candle_data/DeepSeek.csv\")[['timestamp', 'open', 'high', 'low', 'close', 'volume']]\n",
    "df4 = pd.read_csv(\"/home/mostafaroohy/Work/Python/Project_BrainyCharts/playground/candle_data/RageGuy.csv\")[['timestamp', 'open', 'high', 'low', 'close', 'volume']]\n",
    "df5 = pd.read_csv(\"/home/mostafaroohy/Work/Python/Project_BrainyCharts/playground/candle_data/Sendy.csv\")[['timestamp', 'open', 'high', 'low', 'close', 'volume']]\n",
    "\n",
    "symbol_1 = Symbol(tohlcv_df=df1, ticker=\"CGSS\", name=\"CardGlass\", description=\"CardGlass\", exchange=\"DEx\")\n",
    "symbol_2 = Symbol(tohlcv_df=df2, ticker=\"CBB\" , name=\"CryBB\"    , description=\"CryBB\"    , exchange=\"DEx\")\n",
    "symbol_3 = Symbol(tohlcv_df=df3, ticker=\"DPS\" , name=\"DeepSeek\" , description=\"DeepSeek\" , exchange=\"DEx\")\n",
    "symbol_4 = Symbol(tohlcv_df=df4, ticker=\"RGG\" , name=\"RageGuy\"  , description=\"RageGuy\"  , exchange=\"DEx\")\n",
    "symbol_5 = Symbol(tohlcv_df=df5, ticker=\"SND\" , name=\"RageGuy\"  , description=\"RageGuy\"  , exchange=\"DEx\")\n",
    "\n",
    "symbols  = [symbol_1, symbol_2, symbol_3, symbol_4, symbol_5]"
   ]
  },
  {
   "cell_type": "code",
   "execution_count": 4,
   "id": "2586235b",
   "metadata": {},
   "outputs": [],
   "source": [
    "cw = ChartWidget(favorites=Favorites(drawing_tools_favorites=[DrawingToolIdentifier.LineToolRiskRewardLong,\n",
    "                                                              DrawingToolIdentifier.LineToolRiskRewardShort,\n",
    "                                                              DrawingToolIdentifier.LineToolRay,\n",
    "                                                              DrawingToolIdentifier.LineToolHorzLine,\n",
    "                                                              DrawingToolIdentifier.LineToolVer,\n",
    "                                                              DrawingToolIdentifier.LineToolRectangle,\n",
    "                                                              DrawingToolIdentifier.LineToolDateAndPriceRange,\n",
    "                                                              ]), symbol=symbol_1, )"
   ]
  },
  {
   "cell_type": "code",
   "execution_count": 5,
   "id": "e3d82f63",
   "metadata": {},
   "outputs": [],
   "source": [
    "chart = BrainyChart(symbols_list=symbols, chart_widget=cw, server_port=8000, verbose=False, jupyter=False)"
   ]
  },
  {
   "cell_type": "code",
   "execution_count": 6,
   "id": "3dbc9c83",
   "metadata": {},
   "outputs": [
    {
     "name": "stdout",
     "output_type": "stream",
     "text": [
      "Please navigate to: http://localhost:8000\n"
     ]
    }
   ],
   "source": [
    "chart.imagine(width=1000, height=400)"
   ]
  }
 ],
 "metadata": {
  "kernelspec": {
   "display_name": "Project_Brainy_Charts",
   "language": "python",
   "name": "python3"
  },
  "language_info": {
   "codemirror_mode": {
    "name": "ipython",
    "version": 3
   },
   "file_extension": ".py",
   "mimetype": "text/x-python",
   "name": "python",
   "nbconvert_exporter": "python",
   "pygments_lexer": "ipython3",
   "version": "3.12.11"
  }
 },
 "nbformat": 4,
 "nbformat_minor": 5
}
