{
 "cells": [
  {
   "cell_type": "code",
   "execution_count": 1,
   "id": "772167dc",
   "metadata": {},
   "outputs": [
    {
     "name": "stdout",
     "output_type": "stream",
     "text": [
      "Project root added to sys.path: /home/mostafaroohy/Work/Python/Project_BrainyCharts\n"
     ]
    }
   ],
   "source": [
    "import sys\n",
    "import os\n",
    "import time\n",
    "import pandas as pd\n",
    "\n",
    "project_root = os.path.abspath(os.path.join(os.getcwd(), \"../\"))\n",
    "sys.path.insert(0, project_root)\n",
    "print(\"Project root added to sys.path:\", project_root)"
   ]
  },
  {
   "cell_type": "code",
   "execution_count": null,
   "id": "86f8ed01",
   "metadata": {},
   "outputs": [],
   "source": [
    "from brainy_charts.brainy_charts import Symbol, BrainyChart"
   ]
  },
  {
   "cell_type": "code",
   "execution_count": null,
   "id": "6dfae888",
   "metadata": {},
   "outputs": [],
   "source": [
    "df1 = pd.read_csv(\"/home/mostafaroohy/Work/Python/Project_BrainyCharts/playground/CryBB_Candles.csv\")[['timestamp', 'open', 'high', 'low', 'close', 'volume']]\n",
    "df2 = pd.read_csv(\"/home/mostafaroohy/Work/Python/Project_BrainyCharts/playground/DeepSeek_Candle.csv\")[['timestamp', 'open', 'high', 'low', 'close', 'volume']]\n",
    "\n",
    "chart1 = Symbol(tohlcv_df=df1, ticker=\"CryBB\"   , exchange=\"DEx\")\n",
    "chart2 = Symbol(tohlcv_df=df2, ticker=\"DeepSeek\", exchange=\"DEx\")\n",
    "charts = [chart1, chart2]"
   ]
  },
  {
   "cell_type": "code",
   "execution_count": 4,
   "id": "e3d82f63",
   "metadata": {},
   "outputs": [],
   "source": [
    "chart = BrainyChart(chart_data_list=charts, verbose=False, jupyter=False)"
   ]
  },
  {
   "cell_type": "code",
   "execution_count": 5,
   "id": "3dbc9c83",
   "metadata": {},
   "outputs": [],
   "source": [
    "chart.imagine(width=1000, height=400)"
   ]
  },
  {
   "cell_type": "code",
   "execution_count": 6,
   "id": "7d6df3c2",
   "metadata": {},
   "outputs": [],
   "source": [
    "# chart.create_or_update_shape(\n",
    "#     chart_data=chart1, \n",
    "#     shape_type=\"arrow_up\",\n",
    "#     points=[{\"time\": 1754006398000/1000, \"price\": 115884}],\n",
    "#     properties={\"lock\": \"True\"}\n",
    "# )\n",
    "# #"
   ]
  },
  {
   "cell_type": "code",
   "execution_count": 7,
   "id": "08bcdc51",
   "metadata": {},
   "outputs": [],
   "source": [
    "# chart.delete_all_shapes(chart1)"
   ]
  },
  {
   "cell_type": "code",
   "execution_count": null,
   "id": "1b7efdb1",
   "metadata": {},
   "outputs": [],
   "source": []
  }
 ],
 "metadata": {
  "kernelspec": {
   "display_name": "goodddd",
   "language": "python",
   "name": "python3"
  },
  "language_info": {
   "codemirror_mode": {
    "name": "ipython",
    "version": 3
   },
   "file_extension": ".py",
   "mimetype": "text/x-python",
   "name": "python",
   "nbconvert_exporter": "python",
   "pygments_lexer": "ipython3",
   "version": "3.12.11"
  }
 },
 "nbformat": 4,
 "nbformat_minor": 5
}
