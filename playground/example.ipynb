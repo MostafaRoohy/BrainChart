{
 "cells": [
  {
   "cell_type": "code",
   "execution_count": 3,
   "id": "772167dc",
   "metadata": {},
   "outputs": [
    {
     "name": "stdout",
     "output_type": "stream",
     "text": [
      "Project root added to sys.path: /home/mostafaroohy/Work/Python/Project_BrainyCharts\n"
     ]
    }
   ],
   "source": [
    "import sys\n",
    "import os\n",
    "import time\n",
    "import pandas as pd\n",
    "\n",
    "project_root = os.path.abspath(os.path.join(os.getcwd(), \"../\"))\n",
    "sys.path.insert(0, project_root)\n",
    "print(\"Project root added to sys.path:\", project_root)"
   ]
  },
  {
   "cell_type": "code",
   "execution_count": 4,
   "id": "86f8ed01",
   "metadata": {},
   "outputs": [],
   "source": [
    "from brainy_charts.brain  import Symbol, BrainyChart\n",
    "from brainy_charts.widget import ChartWidget, ChartingLibraryFeatureset, Favorites, DrawingToolIdentifier, ResolutionString, ChartTypeFavorites"
   ]
  },
  {
   "cell_type": "code",
   "execution_count": 5,
   "id": "6dfae888",
   "metadata": {},
   "outputs": [],
   "source": [
    "df1 = pd.read_csv(\"./candle_data/CardGlass.csv\")\n",
    "df2 = pd.read_csv(\"./candle_data/CryBB.csv\")\n",
    "df3 = pd.read_csv(\"./candle_data/DeepSeek.csv\")\n",
    "df4 = pd.read_csv(\"./candle_data/RageGuy.csv\")\n",
    "df5 = pd.read_csv(\"./candle_data/Sendy.csv\")\n",
    "\n",
    "symbol_1 = Symbol(tohlcv_df=df1, ticker=\"CGSS\", name=\"CardGlass\", description=\"CardGlass\", exchange=\"DEx\")\n",
    "symbol_2 = Symbol(tohlcv_df=df2, ticker=\"CBB\" , name=\"CryBB\"    , description=\"CryBB\"    , exchange=\"DEx\")\n",
    "symbol_3 = Symbol(tohlcv_df=df3, ticker=\"DPS\" , name=\"DeepSeek\" , description=\"DeepSeek\" , exchange=\"DEx\")\n",
    "symbol_4 = Symbol(tohlcv_df=df4, ticker=\"RGG\" , name=\"RageGuy\"  , description=\"RageGuy\"  , exchange=\"DEx\")\n",
    "symbol_5 = Symbol(tohlcv_df=df5, ticker=\"SND\" , name=\"RageGuy\"  , description=\"RageGuy\"  , exchange=\"DEx\")\n",
    "\n",
    "symbols  = [symbol_1, symbol_2, symbol_3, symbol_4, symbol_5]"
   ]
  },
  {
   "cell_type": "code",
   "execution_count": 6,
   "id": "2586235b",
   "metadata": {},
   "outputs": [],
   "source": [
    "cw = ChartWidget(favorites=Favorites(drawing_tools_favorites=[DrawingToolIdentifier.LineToolRiskRewardLong,\n",
    "                                                              DrawingToolIdentifier.LineToolRiskRewardShort,\n",
    "                                                              DrawingToolIdentifier.LineToolRay,\n",
    "                                                              DrawingToolIdentifier.LineToolHorzLine,\n",
    "                                                              DrawingToolIdentifier.LineToolVer,\n",
    "                                                              DrawingToolIdentifier.LineToolRectangle,\n",
    "                                                              DrawingToolIdentifier.LineToolDateAndPriceRange,\n",
    "                                                              ]), symbol=symbol_1, )"
   ]
  },
  {
   "cell_type": "code",
   "execution_count": 7,
   "id": "e3d82f63",
   "metadata": {},
   "outputs": [],
   "source": [
    "chart = BrainyChart(symbols_list=symbols, chart_widget=cw, server_port=8000, verbose=False, jupyter=False)"
   ]
  },
  {
   "cell_type": "code",
   "execution_count": 8,
   "id": "3dbc9c83",
   "metadata": {},
   "outputs": [
    {
     "name": "stdout",
     "output_type": "stream",
     "text": [
      "Please navigate to: http://localhost:8000\n"
     ]
    }
   ],
   "source": [
    "chart.imagine(width=1000, height=400)"
   ]
  },
  {
   "cell_type": "code",
   "execution_count": 12,
   "id": "be0a27ae",
   "metadata": {},
   "outputs": [],
   "source": [
    "from brainy_charts.shape import (Shapes, ShapeType,\n",
    "                                 ShapePoint, ShapeOptions,\n",
    "                                 TrendlineOverrides, HorzlineOverrides,\n",
    "                                )\n",
    "\n",
    "\n",
    "shaper_1 = Shapes(symbol_1)"
   ]
  },
  {
   "cell_type": "code",
   "execution_count": 15,
   "id": "0892a628",
   "metadata": {},
   "outputs": [
    {
     "data": {
      "text/plain": [
       "{'id': 1,\n",
       " 'symbol': 'CGSS',\n",
       " 'shape_type': 'trend_line',\n",
       " 'points': [{'time': 1757332740, 'price': 0.282},\n",
       "  {'time': 1757330100, 'price': 0.294}],\n",
       " 'options': {'shape': 'trend_line',\n",
       "  'overrides': {'linecolor': '#10b981', 'linewidth': 5, 'showAngle': True}},\n",
       " 'created_at': '2025-09-16T13:14:00.911904'}"
      ]
     },
     "execution_count": 15,
     "metadata": {},
     "output_type": "execute_result"
    }
   ],
   "source": [
    "# Trend line with typed overrides\n",
    "\n",
    "shape  = ShapeType.trend_line\n",
    "points = [ShapePoint.priced(1757332740000, 0.282), ShapePoint.priced(1757330100000, 0.294)]\n",
    "ovr    = TrendlineOverrides(linecolor=\"#10b981\", linewidth=5, show_angle=True)\n",
    "\n",
    "shaper_1.create(shape, points, ovr)\n"
   ]
  },
  {
   "cell_type": "code",
   "execution_count": null,
   "id": "2dc03629",
   "metadata": {},
   "outputs": [],
   "source": [
    "# Update the Trend line\n",
    "\n",
    "shape  = ShapeType.trend_line\n",
    "points = [ShapePoint.priced(1757332740000, 0.282), ShapePoint.priced(1757330100000, 0.294)]\n",
    "ovr    = TrendlineOverrides(linecolor=\"#10b981\", linewidth=5, show_angle=True)\n",
    "\n",
    "shaper_1.update(1, shape, points, ovr)\n"
   ]
  },
  {
   "cell_type": "code",
   "execution_count": 16,
   "id": "b1014e6a",
   "metadata": {},
   "outputs": [
    {
     "data": {
      "text/plain": [
       "{'id': 2,\n",
       " 'symbol': 'CGSS',\n",
       " 'shape_type': 'horizontal_line',\n",
       " 'points': [{'time': 1757332740, 'price': 0.288}],\n",
       " 'options': {'shape': 'horizontal_line',\n",
       "  'text': 'A Brainy HLine',\n",
       "  'overrides': {'linecolor': '#10b981',\n",
       "   'linewidth': 2,\n",
       "   'showLabel': True,\n",
       "   'showPrice': True}},\n",
       " 'created_at': '2025-09-16T13:14:02.987484'}"
      ]
     },
     "execution_count": 16,
     "metadata": {},
     "output_type": "execute_result"
    }
   ],
   "source": [
    "# Horizontal line with label + price shown\n",
    "\n",
    "shape   = ShapeType.horizontal_line\n",
    "points  = ShapePoint.priced(1757332740000, 0.288)\n",
    "ovr     = HorzlineOverrides(linewidth=2, linecolor=\"#10b981\", show_label=True, show_price=True)\n",
    "options = ShapeOptions(text=\"A Brainy HLine\", overrides=ovr)\n",
    "\n",
    "shaper_1.create(shape, points, options)"
   ]
  },
  {
   "cell_type": "code",
   "execution_count": null,
   "id": "cb4bad2c",
   "metadata": {},
   "outputs": [],
   "source": []
  }
 ],
 "metadata": {
  "kernelspec": {
   "display_name": "Project_Brainy_Charts",
   "language": "python",
   "name": "python3"
  },
  "language_info": {
   "codemirror_mode": {
    "name": "ipython",
    "version": 3
   },
   "file_extension": ".py",
   "mimetype": "text/x-python",
   "name": "python",
   "nbconvert_exporter": "python",
   "pygments_lexer": "ipython3",
   "version": "3.12.11"
  }
 },
 "nbformat": 4,
 "nbformat_minor": 5
}
