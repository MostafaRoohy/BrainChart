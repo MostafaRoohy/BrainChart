{
 "cells": [
  {
   "cell_type": "code",
   "execution_count": 1,
   "id": "772167dc",
   "metadata": {},
   "outputs": [
    {
     "name": "stdout",
     "output_type": "stream",
     "text": [
      "Project root added to sys.path: /home/mostafaroohy/Work/Python/Project_BrainyCharts\n"
     ]
    }
   ],
   "source": [
    "import sys\n",
    "import os\n",
    "import time\n",
    "import pandas as pd\n",
    "\n",
    "project_root = os.path.abspath(os.path.join(os.getcwd(), \"../\"))\n",
    "sys.path.insert(0, project_root)\n",
    "print(\"Project root added to sys.path:\", project_root)"
   ]
  },
  {
   "cell_type": "code",
   "execution_count": 2,
   "id": "86f8ed01",
   "metadata": {},
   "outputs": [],
   "source": [
    "from brainy_charts.brainy_charts import Symbol, BrainyChart\n",
    "from brainy_charts.chart_widget import ChartWidget, ChartingLibraryFeatureset, Favorites, DrawingToolIdentifier, ResolutionString, ChartTypeFavorites\n"
   ]
  },
  {
   "cell_type": "code",
   "execution_count": 3,
   "id": "6dfae888",
   "metadata": {},
   "outputs": [],
   "source": [
    "df1 = pd.read_csv(\"/home/mostafaroohy/Work/Python/Project_BrainyCharts/playground/CryBB_Candles.csv\")[['timestamp', 'open', 'high', 'low', 'close', 'volume']]\n",
    "df2 = pd.read_csv(\"/home/mostafaroohy/Work/Python/Project_BrainyCharts/playground/DeepSeek_Candle.csv\")[['timestamp', 'open', 'high', 'low', 'close', 'volume']]\n",
    "\n",
    "chart1 = Symbol(tohlcv_df=df1, ticker=\"CryBB\"   , exchange=\"DEx\")\n",
    "chart2 = Symbol(tohlcv_df=df2, ticker=\"DeepSeek\", exchange=\"DEx\")\n",
    "charts = [chart2, chart1]"
   ]
  },
  {
   "cell_type": "code",
   "execution_count": 4,
   "id": "2586235b",
   "metadata": {},
   "outputs": [],
   "source": [
    "cw = ChartWidget(favorites=Favorites(drawing_tools_favorites=[DrawingToolIdentifier.LineToolRiskRewardLong,\n",
    "                                                              DrawingToolIdentifier.LineToolRiskRewardShort,\n",
    "                                                              DrawingToolIdentifier.LineToolRay,\n",
    "                                                              DrawingToolIdentifier.LineToolHorzLine,\n",
    "                                                              DrawingToolIdentifier.LineToolVer,\n",
    "                                                              DrawingToolIdentifier.LineToolRectangle,\n",
    "                                                              DrawingToolIdentifier.LineToolDateAndPriceRange,\n",
    "                                                              ]), )"
   ]
  },
  {
   "cell_type": "code",
   "execution_count": 5,
   "id": "e3d82f63",
   "metadata": {},
   "outputs": [],
   "source": [
    "chart = BrainyChart(chart_data_list=charts, chart_widget=cw, server_port=8000, verbose=False, jupyter=False)"
   ]
  },
  {
   "cell_type": "code",
   "execution_count": 6,
   "id": "3dbc9c83",
   "metadata": {},
   "outputs": [
    {
     "name": "stdout",
     "output_type": "stream",
     "text": [
      "Please navigate to: http://localhost:8000\n"
     ]
    }
   ],
   "source": [
    "chart.imagine(width=1000, height=400)"
   ]
  },
  {
   "cell_type": "code",
   "execution_count": 7,
   "id": "7d6df3c2",
   "metadata": {},
   "outputs": [],
   "source": [
    "# chart.create_or_update_shape(\n",
    "#     chart_data=chart1, \n",
    "#     shape_type=\"arrow_up\",\n",
    "#     points=[{\"time\": 1751825640000/1000, \"price\": 0}],\n",
    "#     properties={\"lock\": \"True\"}\n",
    "# )\n",
    "# #"
   ]
  },
  {
   "cell_type": "code",
   "execution_count": 8,
   "id": "08bcdc51",
   "metadata": {},
   "outputs": [],
   "source": [
    "# chart.delete_all_shapes(chart1)"
   ]
  },
  {
   "cell_type": "code",
   "execution_count": null,
   "id": "36034474",
   "metadata": {},
   "outputs": [],
   "source": []
  },
  {
   "cell_type": "code",
   "execution_count": 9,
   "id": "5b55e7dd",
   "metadata": {},
   "outputs": [],
   "source": [
    "# import sys\n",
    "# import os\n",
    "# import time\n",
    "# import pandas as pd\n",
    "\n",
    "# project_root = os.path.abspath(os.path.join(os.getcwd(), \"../\"))\n",
    "# sys.path.insert(0, project_root)\n",
    "# print(\"Project root added to sys.path:\", project_root)\n",
    "\n",
    "\n",
    "# from brainy_charts.chart_widget import ChartWidget, Timezone\n",
    "\n",
    "# cw = ChartWidget(timezone=Timezone.Asia_Tehran, fullscreen=True, autosize=True)\n",
    "# cw._generate_index_html()"
   ]
  },
  {
   "cell_type": "code",
   "execution_count": 10,
   "id": "638dc0a8",
   "metadata": {},
   "outputs": [
    {
     "name": "stdout",
     "output_type": "stream",
     "text": [
      "favorites: {chartTypes: ['Area', 'Candles'], drawingTools: ['LineToolBrush', 'LineToolCallout', 'LineToolCircle'], indicators: ['Awesome Oscillator', 'Bollinger Bands'], intervals: ['1D', '3D', '3W', 'W', 'M']}\n"
     ]
    }
   ],
   "source": [
    "from typing import List, Dict, Optional\n",
    "\n",
    "# Assuming ChartTypeFavorites and DrawingToolIdentifier are defined elsewhere\n",
    "ChartTypeFavorites = str  # Placeholder for actual type\n",
    "DrawingToolIdentifier = str  # Placeholder for actual type\n",
    "ResolutionString = str  # Placeholder for actual type\n",
    "\n",
    "class Favorites:\n",
    "    def __init__(self, \n",
    "                 chart_type_favorites: Optional[List[ChartTypeFavorites]] = None, \n",
    "                 drawing_tools_favorites: Optional[List[DrawingToolIdentifier]] = None, \n",
    "                 indicators: Optional[List[str]] = None, \n",
    "                 intervals: Optional[List[ResolutionString]] = None):\n",
    "        \n",
    "        if (chart_type_favorites is None and \n",
    "            drawing_tools_favorites is None and \n",
    "            indicators is None and \n",
    "            intervals is None):\n",
    "            raise ValueError(\"At least one favorite category must be provided.\")\n",
    "\n",
    "        self.favorites: Dict[str, List] = {}\n",
    "\n",
    "        if chart_type_favorites is not None:\n",
    "            self.favorites['chartTypes'] = chart_type_favorites\n",
    "        \n",
    "        if drawing_tools_favorites is not None:\n",
    "            self.favorites['drawingTools'] = drawing_tools_favorites\n",
    "        \n",
    "        if indicators is not None:\n",
    "            self.favorites['indicators'] = indicators\n",
    "        \n",
    "        if intervals is not None:\n",
    "            self.favorites['intervals'] = intervals\n",
    "\n",
    "    def __str__(self):\n",
    "        favorites_str = ', '.join(f\"{key}: {value}\" for key, value in self.favorites.items())\n",
    "        return f\"favorites: {{{favorites_str}}}\"\n",
    "\n",
    "    def __repr__(self):\n",
    "        return self.__str__()\n",
    "\n",
    "# Example usage\n",
    "favorites = Favorites(\n",
    "    intervals=[\"1D\", \"3D\", \"3W\", \"W\", \"M\"],\n",
    "    indicators=[\"Awesome Oscillator\", \"Bollinger Bands\"],\n",
    "    drawing_tools_favorites=['LineToolBrush', 'LineToolCallout', 'LineToolCircle'],\n",
    "    chart_type_favorites=['Area', 'Candles']\n",
    ")\n",
    "\n",
    "print(favorites)\n"
   ]
  },
  {
   "cell_type": "code",
   "execution_count": null,
   "id": "9196ce64",
   "metadata": {},
   "outputs": [],
   "source": []
  }
 ],
 "metadata": {
  "kernelspec": {
   "display_name": "LearningMachineLearning",
   "language": "python",
   "name": "python3"
  },
  "language_info": {
   "codemirror_mode": {
    "name": "ipython",
    "version": 3
   },
   "file_extension": ".py",
   "mimetype": "text/x-python",
   "name": "python",
   "nbconvert_exporter": "python",
   "pygments_lexer": "ipython3",
   "version": "3.12.4"
  }
 },
 "nbformat": 4,
 "nbformat_minor": 5
}
