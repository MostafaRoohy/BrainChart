{
 "cells": [
  {
   "cell_type": "code",
   "execution_count": null,
   "id": "772167dc",
   "metadata": {},
   "outputs": [],
   "source": [
    "import sys\n",
    "import os\n",
    "import time\n",
    "import pandas as pd\n",
    "\n",
    "project_root = os.path.abspath(os.path.join(os.getcwd(), \"../\"))\n",
    "sys.path.insert(0, project_root)\n",
    "print(\"Project root added to sys.path:\", project_root)"
   ]
  },
  {
   "cell_type": "markdown",
   "id": "21fe7fb5",
   "metadata": {},
   "source": [
    "# Example 1\n",
    "Minimal end‑to‑end (symbol, widget)"
   ]
  },
  {
   "cell_type": "code",
   "execution_count": null,
   "id": "e2fdad45",
   "metadata": {},
   "outputs": [],
   "source": [
    "import pandas as pd\n",
    "from brainchart import Symbol, ChartWidget, BrainChart\n",
    "\n",
    "\n",
    "# 1) Prepare OHLCV DataFrame (timestamp in ms)\n",
    "df_1 = pd.read_csv(\"./candle_data/CardGlass.csv\")\n",
    "\n",
    "\n",
    "# 2) Define the symbol with the DataFrame\n",
    "symbol_1 = Symbol(tohlcv_df   = df_1,\n",
    "                  ticker      = \"CGSS\",\n",
    "                  name        = \"CardGlass\",\n",
    "                  description = \"CardGlass is a symbol\",\n",
    "                  exchange    = \"DEx\")\n",
    "\n",
    "\n",
    "# 3) Create the widget with the default symbol\n",
    "widget = ChartWidget(symbol=symbol_1)\n",
    "\n",
    "\n",
    "# 3) Create the BrainChart\n",
    "brain_chart = BrainChart(symbols_list=[symbol_1], chart_widget=widget)\n",
    "brain_chart.imagine()\n",
    "\n",
    "\n",
    "# 4) Open browser and navigate to the generated server: http://localhost:8000"
   ]
  },
  {
   "cell_type": "markdown",
   "id": "fb97aa3c",
   "metadata": {},
   "source": [
    "# Example 2\n",
    "Two symbols + default widget"
   ]
  },
  {
   "cell_type": "code",
   "execution_count": null,
   "id": "bd94b96d",
   "metadata": {},
   "outputs": [],
   "source": [
    "import pandas as pd\n",
    "from brainchart import Symbol, ChartWidget, BrainChart\n",
    "\n",
    "\n",
    "# 1) Prepare OHLCV DataFrame (timestamp in ms)\n",
    "df_1 = pd.read_csv(\"./candle_data/CardGlass.csv\")\n",
    "df_2 = pd.read_csv(\"./candle_data/RageGuy.csv\")\n",
    "\n",
    "\n",
    "# 2) Define the symbol with the DataFrame\n",
    "symbol_1 = Symbol(tohlcv_df   = df_1,\n",
    "                  ticker      = \"CGSS\",\n",
    "                  name        = \"CardGlass\",\n",
    "                  description = \"CardGlass is a symbol\",\n",
    "                  exchange    = \"DEx\")\n",
    "\n",
    "symbol_2 = Symbol(tohlcv_df   = df_2,\n",
    "                  ticker      = \"RGG\",\n",
    "                  name        = \"Rage Guy\",\n",
    "                  description = \"Rage Guy is another symbol\",\n",
    "                  exchange    = \"DEx\")\n",
    "\n",
    "\n",
    "# 3) Create the BrainChart\n",
    "brain_chart = BrainChart(symbols_list=[symbol_1, symbol_2])\n",
    "brain_chart.imagine()\n",
    "\n",
    "\n",
    "# 4) Open browser and navigate to the generated server: http://localhost:8000"
   ]
  },
  {
   "cell_type": "markdown",
   "id": "9bf09d4e",
   "metadata": {},
   "source": [
    "# Example 3\n",
    "Attach custom series (overlay + pane)"
   ]
  },
  {
   "cell_type": "code",
   "execution_count": null,
   "id": "bf050314",
   "metadata": {},
   "outputs": [],
   "source": [
    "import pandas as pd\n",
    "from brainchart import Symbol, ChartWidget, BrainChart\n",
    "\n",
    "\n",
    "# 1) Prepare OHLCV DataFrame (timestamp in ms). The df has extra columns 'series_1', 'series_2', 'series_3'.\n",
    "df_1 = pd.read_csv(\"./candle_data/CryBB.csv\")\n",
    "\n",
    "\n",
    "# 2) Define the symbol with the DataFrame, and pass the column names you want to see in the chart\n",
    "symbol_1 = Symbol(tohlcv_df      = df_1,\n",
    "                  ticker         = \"CBB\",\n",
    "                  name           = \"CryBB\",\n",
    "                  description    = \"Babies Cry\",\n",
    "                  exchange       = \"DEx\",\n",
    "                  series_columns = ['series_1', 'series_3'],\n",
    "                  series_panels  = ['overlay', 'pane'])\n",
    "\n",
    "\n",
    "# 3) Create the BrainChart\n",
    "brain_chart = BrainChart(symbols_list=[symbol_1])\n",
    "brain_chart.imagine()\n",
    "\n",
    "\n",
    "# 4) Open browser and navigate to the generated server: http://localhost:8000"
   ]
  },
  {
   "cell_type": "markdown",
   "id": "7d3fd82d",
   "metadata": {},
   "source": [
    "# Example 4\n",
    "Create a trend line programmatically while runtime"
   ]
  },
  {
   "cell_type": "code",
   "execution_count": null,
   "id": "6ced7a2a",
   "metadata": {},
   "outputs": [],
   "source": [
    "import pandas as pd\n",
    "from brainchart import Symbol, ChartWidget, BrainChart\n",
    "\n",
    "\n",
    "# 1) Prepare OHLCV DataFrame (timestamp in ms)\n",
    "df_1 = pd.read_csv(\"./candle_data/CardGlass.csv\")\n",
    "df_2 = pd.read_csv(\"./candle_data/RageGuy.csv\")\n",
    "\n",
    "\n",
    "# 2) Define the symbol with the DataFrame\n",
    "symbol_1 = Symbol(tohlcv_df   = df_1,\n",
    "                  ticker      = \"CGSS\",\n",
    "                  name        = \"CardGlass\",\n",
    "                  description = \"CardGlass is a symbol\",\n",
    "                  exchange    = \"DEx\")\n",
    "\n",
    "symbol_2 = Symbol(tohlcv_df   = df_2,\n",
    "                  ticker      = \"RGG\",\n",
    "                  name        = \"Rage Guy\",\n",
    "                  description = \"Rage Guy is another symbol\",\n",
    "                  exchange    = \"DEx\")\n",
    "\n",
    "\n",
    "# 3) Create the BrainChart\n",
    "brain_chart = BrainChart(symbols_list=[symbol_1, symbol_2])\n",
    "brain_chart.imagine()\n",
    "\n",
    "\n",
    "# 4) Open browser and navigate to the generated server: http://localhost:8000"
   ]
  },
  {
   "cell_type": "code",
   "execution_count": null,
   "id": "a75a9fda",
   "metadata": {},
   "outputs": [],
   "source": [
    "# 5) Make shapes\n",
    "from brainchart.shape import Shapes, ShapeType, ShapePoint, TrendlineOverrides\n",
    "\n",
    "shaper_1 = Shapes(symbol_1)\n",
    "shape    = ShapeType.trend_line\n",
    "points   = [ShapePoint.priced(1757332740000, 0.282), ShapePoint.priced(1757331660000, 0.294)]\n",
    "ovr      = TrendlineOverrides(linecolor=\"#10b981\", linewidth=5, show_angle=True)\n",
    "\n",
    "shaper_1.create(shape, points, ovr)"
   ]
  },
  {
   "cell_type": "markdown",
   "id": "4e2cc0c7",
   "metadata": {},
   "source": [
    "# Example 5\n",
    "Listing and Removing all shapes on a symbol"
   ]
  },
  {
   "cell_type": "code",
   "execution_count": null,
   "id": "26eaa019",
   "metadata": {},
   "outputs": [],
   "source": [
    "import pandas as pd\n",
    "from brainchart import Symbol, ChartWidget, BrainChart\n",
    "\n",
    "\n",
    "# 1) Prepare OHLCV DataFrame (timestamp in ms)\n",
    "df_1 = pd.read_csv(\"./candle_data/CardGlass.csv\")\n",
    "df_2 = pd.read_csv(\"./candle_data/RageGuy.csv\")\n",
    "\n",
    "\n",
    "# 2) Define the symbol with the DataFrame\n",
    "symbol_1 = Symbol(tohlcv_df   = df_1,\n",
    "                  ticker      = \"CGSS\",\n",
    "                  name        = \"CardGlass\",\n",
    "                  description = \"CardGlass is a symbol\",\n",
    "                  exchange    = \"DEx\")\n",
    "\n",
    "symbol_2 = Symbol(tohlcv_df   = df_2,\n",
    "                  ticker      = \"RGG\",\n",
    "                  name        = \"Rage Guy\",\n",
    "                  description = \"Rage Guy is another symbol\",\n",
    "                  exchange    = \"DEx\")\n",
    "\n",
    "\n",
    "# 3) Create the BrainChart\n",
    "brain_chart = BrainChart(symbols_list=[symbol_1, symbol_2])\n",
    "brain_chart.imagine()\n",
    "\n",
    "\n",
    "# 4) Open browser and navigate to the generated server: http://localhost:8000"
   ]
  },
  {
   "cell_type": "code",
   "execution_count": null,
   "id": "de4780e3",
   "metadata": {},
   "outputs": [],
   "source": [
    "# 5) Make shapes\n",
    "from brainchart.shape import Shapes, ShapeType, ShapePoint, TrendlineOverrides\n",
    "\n",
    "shaper_1 = Shapes(symbol_1)\n",
    "shape    = ShapeType.trend_line\n",
    "points   = [ShapePoint.priced(1757332740000, 0.282), ShapePoint.priced(1757331660000, 0.294)]\n",
    "ovr      = TrendlineOverrides(linecolor=\"#10b981\", linewidth=5, show_angle=True)\n",
    "\n",
    "shaper_1.create(shape, points, ovr)"
   ]
  },
  {
   "cell_type": "code",
   "execution_count": null,
   "id": "7299e79b",
   "metadata": {},
   "outputs": [],
   "source": [
    "# 6) You can remove a specific shape, or just remove them all\n",
    "shaper_1.all()                  # Lists all the shapes\n",
    "# shaper_1.remove(shape_id=5)\n",
    "shaper_1.remove_all()"
   ]
  },
  {
   "cell_type": "code",
   "execution_count": null,
   "id": "a55cb6a8",
   "metadata": {},
   "outputs": [],
   "source": []
  }
 ],
 "metadata": {
  "kernelspec": {
   "display_name": "Project_Brainy_Charts",
   "language": "python",
   "name": "python3"
  },
  "language_info": {
   "codemirror_mode": {
    "name": "ipython",
    "version": 3
   },
   "file_extension": ".py",
   "mimetype": "text/x-python",
   "name": "python",
   "nbconvert_exporter": "python",
   "pygments_lexer": "ipython3",
   "version": "3.12.11"
  }
 },
 "nbformat": 4,
 "nbformat_minor": 5
}
