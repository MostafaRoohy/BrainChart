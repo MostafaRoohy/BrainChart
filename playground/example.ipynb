{
 "cells": [
  {
   "cell_type": "code",
   "execution_count": null,
   "id": "772167dc",
   "metadata": {},
   "outputs": [],
   "source": [
    "import sys\n",
    "import os\n",
    "import time\n",
    "import pandas as pd\n",
    "\n",
    "project_root = os.path.abspath(os.path.join(os.getcwd(), \"../\"))\n",
    "sys.path.insert(0, project_root)\n",
    "print(\"Project root added to sys.path:\", project_root)"
   ]
  },
  {
   "cell_type": "code",
   "execution_count": null,
   "id": "86f8ed01",
   "metadata": {},
   "outputs": [],
   "source": [
    "from brainy_charts.brainy_charts import Symbol, BrainyChart\n",
    "from brainy_charts.chart_widget import ChartWidget, ChartingLibraryFeatureset, Favorites, DrawingToolIdentifier, ResolutionString, ChartTypeFavorites"
   ]
  },
  {
   "cell_type": "code",
   "execution_count": null,
   "id": "6dfae888",
   "metadata": {},
   "outputs": [],
   "source": [
    "df1 = pd.read_csv(\"/home/mostafaroohy/Work/Python/Project_BrainyCharts/playground/CryBB_Candles.csv\")[['timestamp', 'open', 'high', 'low', 'close', 'volume']]\n",
    "df2 = pd.read_csv(\"/home/mostafaroohy/Work/Python/Project_BrainyCharts/playground/DeepSeek_Candle.csv\")[['timestamp', 'open', 'high', 'low', 'close', 'volume']]\n",
    "\n",
    "symbol_1 = Symbol(tohlcv_df=df1, ticker=\"CryBB\"   , name=\"some name\"   , exchange=\"DEx\")\n",
    "symbol_2 = Symbol(tohlcv_df=df2, ticker=\"DeepSeek\", name=\"another name\", exchange=\"DEx\")\n",
    "symbols  = [symbol_1, symbol_2]"
   ]
  },
  {
   "cell_type": "code",
   "execution_count": null,
   "id": "2586235b",
   "metadata": {},
   "outputs": [],
   "source": [
    "cw = ChartWidget(favorites=Favorites(drawing_tools_favorites=[DrawingToolIdentifier.LineToolRiskRewardLong,\n",
    "                                                              DrawingToolIdentifier.LineToolRiskRewardShort,\n",
    "                                                              DrawingToolIdentifier.LineToolRay,\n",
    "                                                              DrawingToolIdentifier.LineToolHorzLine,\n",
    "                                                              DrawingToolIdentifier.LineToolVer,\n",
    "                                                              DrawingToolIdentifier.LineToolRectangle,\n",
    "                                                              DrawingToolIdentifier.LineToolDateAndPriceRange,\n",
    "                                                              ]), symbol=symbol_1, )"
   ]
  },
  {
   "cell_type": "code",
   "execution_count": null,
   "id": "e3d82f63",
   "metadata": {},
   "outputs": [],
   "source": [
    "chart = BrainyChart(symbols_list=symbols, chart_widget=cw, server_port=8000, verbose=False, jupyter=False)"
   ]
  },
  {
   "cell_type": "code",
   "execution_count": null,
   "id": "3dbc9c83",
   "metadata": {},
   "outputs": [],
   "source": [
    "chart.imagine(width=1000, height=400)"
   ]
  }
 ],
 "metadata": {
  "kernelspec": {
   "display_name": "Project_Brainy_Charts",
   "language": "python",
   "name": "python3"
  },
  "language_info": {
   "codemirror_mode": {
    "name": "ipython",
    "version": 3
   },
   "file_extension": ".py",
   "mimetype": "text/x-python",
   "name": "python",
   "nbconvert_exporter": "python",
   "pygments_lexer": "ipython3",
   "version": "3.12.11"
  }
 },
 "nbformat": 4,
 "nbformat_minor": 5
}
