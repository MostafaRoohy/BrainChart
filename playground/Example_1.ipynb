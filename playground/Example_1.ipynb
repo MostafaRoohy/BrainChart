{
 "cells": [
  {
   "cell_type": "code",
   "execution_count": null,
   "id": "772167dc",
   "metadata": {},
   "outputs": [],
   "source": [
    "import sys\n",
    "import os\n",
    "\n",
    "project_root = os.path.abspath(os.path.join(os.getcwd(), \"../\"))\n",
    "sys.path.insert(0, project_root)\n",
    "print(\"Project root added to sys.path:\", project_root)"
   ]
  },
  {
   "cell_type": "code",
   "execution_count": null,
   "id": "86f8ed01",
   "metadata": {},
   "outputs": [],
   "source": [
    "import time\n",
    "import pandas as pd\n",
    "from brainy_charts.brainy_chart import BrainyChart"
   ]
  },
  {
   "cell_type": "code",
   "execution_count": null,
   "id": "6dfae888",
   "metadata": {},
   "outputs": [],
   "source": [
    "df = pd.read_csv(\"/home/mostafaroohy/Work/Python/Project_BrainyCharts/playground/CryBB_Candles.csv\")\n",
    "df = df[['timestamp', 'open', 'high', 'low', 'close', 'volume']]\n",
    "# df"
   ]
  },
  {
   "cell_type": "code",
   "execution_count": null,
   "id": "e3d82f63",
   "metadata": {},
   "outputs": [],
   "source": [
    "chart = BrainyChart(data=df)\n"
   ]
  },
  {
   "cell_type": "code",
   "execution_count": null,
   "id": "3dbc9c83",
   "metadata": {},
   "outputs": [],
   "source": [
    "chart.imagine(width=1270)"
   ]
  },
  {
   "cell_type": "code",
   "execution_count": null,
   "id": "f12e6942",
   "metadata": {},
   "outputs": [],
   "source": []
  }
 ],
 "metadata": {
  "kernelspec": {
   "display_name": "LearningMachineLearning",
   "language": "python",
   "name": "python3"
  },
  "language_info": {
   "codemirror_mode": {
    "name": "ipython",
    "version": 3
   },
   "file_extension": ".py",
   "mimetype": "text/x-python",
   "name": "python",
   "nbconvert_exporter": "python",
   "pygments_lexer": "ipython3",
   "version": "3.12.4"
  }
 },
 "nbformat": 4,
 "nbformat_minor": 5
}
